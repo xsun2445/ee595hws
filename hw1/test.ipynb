{
 "cells": [
  {
   "cell_type": "code",
   "execution_count": 3,
   "metadata": {},
   "outputs": [
    {
     "name": "stdout",
     "output_type": "stream",
     "text": [
      "The autoreload extension is already loaded. To reload it, use:\n",
      "  %reload_ext autoreload\n"
     ]
    }
   ],
   "source": [
    "import numpy as np\n",
    "import sys\n",
    "import commpy\n",
    "import struct\n",
    "import matplotlib.pyplot as plt\n",
    "import scipy\n",
    "\n",
    "from LoRaDecoder import LoRaDecoder\n",
    "\n",
    "%load_ext autoreload\n",
    "%autoreload 2"
   ]
  },
  {
   "cell_type": "code",
   "execution_count": 22,
   "metadata": {},
   "outputs": [
    {
     "name": "stdout",
     "output_type": "stream",
     "text": [
      "(512,)\n",
      "512\n",
      "(50,)\n"
     ]
    }
   ],
   "source": [
    "rf_freq = 915e6    # carrier frequency 470 MHz, used to correct clock drift\n",
    "sf = 8             # spreading factor SF7\n",
    "bw = 125e3         # bandwidth 125 kHz\n",
    "fs = 250e3         # sampling rate 1 MHz\n",
    "\n",
    "phy = LoRaDecoder()\n",
    "\n",
    "\n",
    "\n",
    "phy.chirp(True,sf,bw,fs,0,0,0)"
   ]
  },
  {
   "cell_type": "code",
   "execution_count": 16,
   "metadata": {},
   "outputs": [
    {
     "name": "stdout",
     "output_type": "stream",
     "text": [
      "[0 1 2 3 4]\n",
      "[ 0  1  4  9 16]\n",
      "[ 0  1  4  9 16]\n"
     ]
    }
   ],
   "source": [
    "a = np.array(range(5))\n",
    "print(a)\n",
    "print(a*a)\n",
    "print(a**2)"
   ]
  },
  {
   "cell_type": "code",
   "execution_count": null,
   "metadata": {},
   "outputs": [],
   "source": []
  }
 ],
 "metadata": {
  "kernelspec": {
   "display_name": "Python 3",
   "language": "python",
   "name": "python3"
  },
  "language_info": {
   "codemirror_mode": {
    "name": "ipython",
    "version": 3
   },
   "file_extension": ".py",
   "mimetype": "text/x-python",
   "name": "python",
   "nbconvert_exporter": "python",
   "pygments_lexer": "ipython3",
   "version": "3.12.3"
  }
 },
 "nbformat": 4,
 "nbformat_minor": 2
}
